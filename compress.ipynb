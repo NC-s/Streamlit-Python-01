# Reference:
# https://medium.com/@duongthanhhung86/a-simple-trick-to-read-a-large-csv-excel-file-from-github-80cc1581ae08

from io import StringIO
from io import BytesIO
from zipfile import ZipFile
import urllib.request
import pandas as pd
import os
from zipfile import ZipFile

# Read file from local path as bytes object
file_path = "streamlit-demo-data/Motor_Vehicle_Collisions_-_Crashes"
zip_file_path = f"{file_path}.zip"
csv_file_path = f"{file_path}.csv"

if not os.path.exists(csv_file_path):
    with ZipFile(zip_file_path, 'r') as zip_ref:
        zip_ref.extractall("streamlit-demo-data")

with open(file_path+".csv", 'rb') as file:
    data = file.read()


# example of the data file
data[:100]
# Convert bytes data to string data
s = str(data, 'utf-8')

data = StringIO(s)

# convert it to pandas DataFrame as normal csv file
df = pd.read_csv(data)

df.tail()
